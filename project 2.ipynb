{
 "cells": [
  {
   "cell_type": "code",
   "execution_count": 24,
   "id": "4c7b7125",
   "metadata": {},
   "outputs": [],
   "source": [
    "import pandas as pd\n",
    "import numpy as np\n",
    "import matplotlib.pyplot as plt\n",
    "import seaborn as sns"
   ]
  },
  {
   "cell_type": "code",
   "execution_count": 25,
   "id": "de3be03b",
   "metadata": {},
   "outputs": [],
   "source": [
    "data = pd.read_csv(r'C:\\Users\\Asus\\old codes\\AmesHousing.csv')"
   ]
  },
  {
   "cell_type": "code",
   "execution_count": 26,
   "id": "f1d471e3",
   "metadata": {},
   "outputs": [
    {
     "data": {
      "text/plain": [
       "Index(['Unnamed: 0', 'Lot Frontage', 'Lot Area', 'Overall Qual',\n",
       "       'Overall Cond', 'Year Built', 'Year Remod/Add', 'Mas Vnr Area',\n",
       "       'BsmtFin SF 1', 'BsmtFin SF 2',\n",
       "       ...\n",
       "       'Sale Type_ConLw', 'Sale Type_New', 'Sale Type_Oth', 'Sale Type_VWD',\n",
       "       'Sale Type_WD ', 'Sale Condition_AdjLand', 'Sale Condition_Alloca',\n",
       "       'Sale Condition_Family', 'Sale Condition_Normal',\n",
       "       'Sale Condition_Partial'],\n",
       "      dtype='object', length=276)"
      ]
     },
     "execution_count": 26,
     "metadata": {},
     "output_type": "execute_result"
    }
   ],
   "source": [
    "data.columns"
   ]
  },
  {
   "cell_type": "code",
   "execution_count": 27,
   "id": "19845aa7",
   "metadata": {},
   "outputs": [],
   "source": [
    "data=data.drop('Unnamed: 0',axis=1)"
   ]
  },
  {
   "cell_type": "code",
   "execution_count": 28,
   "id": "a251e363",
   "metadata": {},
   "outputs": [
    {
     "name": "stdout",
     "output_type": "stream",
     "text": [
      "<class 'pandas.core.frame.DataFrame'>\n",
      "RangeIndex: 2928 entries, 0 to 2927\n",
      "Columns: 275 entries, Lot Frontage to Sale Condition_Partial\n",
      "dtypes: float64(11), int64(264)\n",
      "memory usage: 6.1 MB\n"
     ]
    }
   ],
   "source": [
    "data.info()"
   ]
  },
  {
   "cell_type": "code",
   "execution_count": 29,
   "id": "7c70d1a0",
   "metadata": {},
   "outputs": [],
   "source": [
    "X=data.drop('SalePrice', axis=1)"
   ]
  },
  {
   "cell_type": "code",
   "execution_count": 30,
   "id": "94ae5e34",
   "metadata": {},
   "outputs": [],
   "source": [
    "y=data['SalePrice']"
   ]
  },
  {
   "cell_type": "code",
   "execution_count": 31,
   "id": "ae2f640c",
   "metadata": {},
   "outputs": [],
   "source": [
    "from sklearn.model_selection import train_test_split"
   ]
  },
  {
   "cell_type": "code",
   "execution_count": 32,
   "id": "095a6279",
   "metadata": {},
   "outputs": [],
   "source": [
    "X_train, X_test, y_train, y_test = train_test_split(X, y, test_size=0.1, random_state=101)"
   ]
  },
  {
   "cell_type": "code",
   "execution_count": 33,
   "id": "084f2f27",
   "metadata": {},
   "outputs": [],
   "source": [
    "from sklearn.preprocessing import StandardScaler"
   ]
  },
  {
   "cell_type": "code",
   "execution_count": 22,
   "id": "93f75b4e",
   "metadata": {},
   "outputs": [],
   "source": [
    "scale = StandardScaler()"
   ]
  },
  {
   "cell_type": "code",
   "execution_count": 34,
   "id": "3418597c",
   "metadata": {},
   "outputs": [],
   "source": [
    "scale = scale.fit(X_train)\n",
    "scaled_X_train = scale.transform(X_train)\n",
    "scaled_X_test = scale.transform(X_test)"
   ]
  },
  {
   "cell_type": "code",
   "execution_count": 36,
   "id": "53368247",
   "metadata": {},
   "outputs": [],
   "source": [
    "from sklearn.linear_model import ElasticNet"
   ]
  },
  {
   "cell_type": "code",
   "execution_count": 54,
   "id": "dc708fe5",
   "metadata": {},
   "outputs": [],
   "source": [
    "param_grid = {'alpha':[1,30,50,100],\n",
    "              'l1_ratio':[0.1,0.5,1]}"
   ]
  },
  {
   "cell_type": "code",
   "execution_count": 55,
   "id": "0a260ba4",
   "metadata": {},
   "outputs": [],
   "source": [
    "ElasticNet_model = ElasticNet()"
   ]
  },
  {
   "cell_type": "code",
   "execution_count": 56,
   "id": "09b57fe6",
   "metadata": {},
   "outputs": [],
   "source": [
    "from sklearn.model_selection import GridSearchCV"
   ]
  },
  {
   "cell_type": "code",
   "execution_count": 47,
   "id": "6f696d2e",
   "metadata": {},
   "outputs": [],
   "source": [
    "GridSearchCV_model = GridSearchCV(estimator=ElasticNet_model, param_grid=param_grid, cv=5, verbose=2)"
   ]
  },
  {
   "cell_type": "code",
   "execution_count": 57,
   "id": "11a03448",
   "metadata": {},
   "outputs": [
    {
     "name": "stdout",
     "output_type": "stream",
     "text": [
      "Fitting 5 folds for each of 48 candidates, totalling 240 fits\n",
      "[CV] END ..............................alpha=1, l1_ratio=0.1; total time=   0.0s\n",
      "[CV] END ..............................alpha=1, l1_ratio=0.1; total time=   0.0s\n",
      "[CV] END ..............................alpha=1, l1_ratio=0.1; total time=   0.0s\n",
      "[CV] END ..............................alpha=1, l1_ratio=0.1; total time=   0.1s\n",
      "[CV] END ..............................alpha=1, l1_ratio=0.1; total time=   0.1s\n",
      "[CV] END ..............................alpha=1, l1_ratio=0.3; total time=   0.1s\n",
      "[CV] END ..............................alpha=1, l1_ratio=0.3; total time=   0.0s\n",
      "[CV] END ..............................alpha=1, l1_ratio=0.3; total time=   0.0s\n",
      "[CV] END ..............................alpha=1, l1_ratio=0.3; total time=   0.0s\n",
      "[CV] END ..............................alpha=1, l1_ratio=0.3; total time=   0.0s\n",
      "[CV] END ..............................alpha=1, l1_ratio=0.5; total time=   0.0s\n",
      "[CV] END ..............................alpha=1, l1_ratio=0.5; total time=   0.1s\n",
      "[CV] END ..............................alpha=1, l1_ratio=0.5; total time=   0.1s\n",
      "[CV] END ..............................alpha=1, l1_ratio=0.5; total time=   0.0s\n",
      "[CV] END ..............................alpha=1, l1_ratio=0.5; total time=   0.1s\n",
      "[CV] END ..............................alpha=1, l1_ratio=0.6; total time=   0.1s\n",
      "[CV] END ..............................alpha=1, l1_ratio=0.6; total time=   0.2s\n",
      "[CV] END ..............................alpha=1, l1_ratio=0.6; total time=   0.2s\n",
      "[CV] END ..............................alpha=1, l1_ratio=0.6; total time=   0.1s\n",
      "[CV] END ..............................alpha=1, l1_ratio=0.6; total time=   0.1s\n",
      "[CV] END ..............................alpha=1, l1_ratio=0.8; total time=   0.1s\n",
      "[CV] END ..............................alpha=1, l1_ratio=0.8; total time=   0.2s\n",
      "[CV] END ..............................alpha=1, l1_ratio=0.8; total time=   0.1s\n",
      "[CV] END ..............................alpha=1, l1_ratio=0.8; total time=   0.1s\n",
      "[CV] END ..............................alpha=1, l1_ratio=0.8; total time=   0.1s\n"
     ]
    },
    {
     "name": "stderr",
     "output_type": "stream",
     "text": [
      "D:\\my_stuff\\new\\lib\\site-packages\\sklearn\\linear_model\\_coordinate_descent.py:647: ConvergenceWarning: Objective did not converge. You might want to increase the number of iterations, check the scale of the features or consider increasing regularisation. Duality gap: 3.096e+11, tolerance: 1.328e+09\n",
      "  model = cd_fast.enet_coordinate_descent(\n"
     ]
    },
    {
     "name": "stdout",
     "output_type": "stream",
     "text": [
      "[CV] END ................................alpha=1, l1_ratio=1; total time=   1.0s\n"
     ]
    },
    {
     "name": "stderr",
     "output_type": "stream",
     "text": [
      "D:\\my_stuff\\new\\lib\\site-packages\\sklearn\\linear_model\\_coordinate_descent.py:647: ConvergenceWarning: Objective did not converge. You might want to increase the number of iterations, check the scale of the features or consider increasing regularisation. Duality gap: 3.964e+11, tolerance: 1.414e+09\n",
      "  model = cd_fast.enet_coordinate_descent(\n"
     ]
    },
    {
     "name": "stdout",
     "output_type": "stream",
     "text": [
      "[CV] END ................................alpha=1, l1_ratio=1; total time=   0.9s\n"
     ]
    },
    {
     "name": "stderr",
     "output_type": "stream",
     "text": [
      "D:\\my_stuff\\new\\lib\\site-packages\\sklearn\\linear_model\\_coordinate_descent.py:647: ConvergenceWarning: Objective did not converge. You might want to increase the number of iterations, check the scale of the features or consider increasing regularisation. Duality gap: 3.842e+11, tolerance: 1.393e+09\n",
      "  model = cd_fast.enet_coordinate_descent(\n"
     ]
    },
    {
     "name": "stdout",
     "output_type": "stream",
     "text": [
      "[CV] END ................................alpha=1, l1_ratio=1; total time=   1.0s\n"
     ]
    },
    {
     "name": "stderr",
     "output_type": "stream",
     "text": [
      "D:\\my_stuff\\new\\lib\\site-packages\\sklearn\\linear_model\\_coordinate_descent.py:647: ConvergenceWarning: Objective did not converge. You might want to increase the number of iterations, check the scale of the features or consider increasing regularisation. Duality gap: 4.571e+11, tolerance: 1.404e+09\n",
      "  model = cd_fast.enet_coordinate_descent(\n"
     ]
    },
    {
     "name": "stdout",
     "output_type": "stream",
     "text": [
      "[CV] END ................................alpha=1, l1_ratio=1; total time=   1.1s\n"
     ]
    },
    {
     "name": "stderr",
     "output_type": "stream",
     "text": [
      "D:\\my_stuff\\new\\lib\\site-packages\\sklearn\\linear_model\\_coordinate_descent.py:647: ConvergenceWarning: Objective did not converge. You might want to increase the number of iterations, check the scale of the features or consider increasing regularisation. Duality gap: 3.413e+11, tolerance: 1.318e+09\n",
      "  model = cd_fast.enet_coordinate_descent(\n"
     ]
    },
    {
     "name": "stdout",
     "output_type": "stream",
     "text": [
      "[CV] END ................................alpha=1, l1_ratio=1; total time=   1.0s\n",
      "[CV] END ..............................alpha=8, l1_ratio=0.1; total time=   0.0s\n",
      "[CV] END ..............................alpha=8, l1_ratio=0.1; total time=   0.0s\n",
      "[CV] END ..............................alpha=8, l1_ratio=0.1; total time=   0.0s\n",
      "[CV] END ..............................alpha=8, l1_ratio=0.1; total time=   0.0s\n",
      "[CV] END ..............................alpha=8, l1_ratio=0.1; total time=   0.0s\n",
      "[CV] END ..............................alpha=8, l1_ratio=0.3; total time=   0.0s\n",
      "[CV] END ..............................alpha=8, l1_ratio=0.3; total time=   0.0s\n",
      "[CV] END ..............................alpha=8, l1_ratio=0.3; total time=   0.0s\n",
      "[CV] END ..............................alpha=8, l1_ratio=0.3; total time=   0.0s\n",
      "[CV] END ..............................alpha=8, l1_ratio=0.3; total time=   0.0s\n",
      "[CV] END ..............................alpha=8, l1_ratio=0.5; total time=   0.0s\n",
      "[CV] END ..............................alpha=8, l1_ratio=0.5; total time=   0.0s\n",
      "[CV] END ..............................alpha=8, l1_ratio=0.5; total time=   0.0s\n",
      "[CV] END ..............................alpha=8, l1_ratio=0.5; total time=   0.0s\n",
      "[CV] END ..............................alpha=8, l1_ratio=0.5; total time=   0.0s\n",
      "[CV] END ..............................alpha=8, l1_ratio=0.6; total time=   0.0s\n",
      "[CV] END ..............................alpha=8, l1_ratio=0.6; total time=   0.0s\n",
      "[CV] END ..............................alpha=8, l1_ratio=0.6; total time=   0.0s\n",
      "[CV] END ..............................alpha=8, l1_ratio=0.6; total time=   0.0s\n",
      "[CV] END ..............................alpha=8, l1_ratio=0.6; total time=   0.0s\n",
      "[CV] END ..............................alpha=8, l1_ratio=0.8; total time=   0.0s\n",
      "[CV] END ..............................alpha=8, l1_ratio=0.8; total time=   0.0s\n",
      "[CV] END ..............................alpha=8, l1_ratio=0.8; total time=   0.0s\n",
      "[CV] END ..............................alpha=8, l1_ratio=0.8; total time=   0.0s\n",
      "[CV] END ..............................alpha=8, l1_ratio=0.8; total time=   0.0s\n"
     ]
    },
    {
     "name": "stderr",
     "output_type": "stream",
     "text": [
      "D:\\my_stuff\\new\\lib\\site-packages\\sklearn\\linear_model\\_coordinate_descent.py:647: ConvergenceWarning: Objective did not converge. You might want to increase the number of iterations, check the scale of the features or consider increasing regularisation. Duality gap: 4.449e+10, tolerance: 1.328e+09\n",
      "  model = cd_fast.enet_coordinate_descent(\n"
     ]
    },
    {
     "name": "stdout",
     "output_type": "stream",
     "text": [
      "[CV] END ................................alpha=8, l1_ratio=1; total time=   1.0s\n"
     ]
    },
    {
     "name": "stderr",
     "output_type": "stream",
     "text": [
      "D:\\my_stuff\\new\\lib\\site-packages\\sklearn\\linear_model\\_coordinate_descent.py:647: ConvergenceWarning: Objective did not converge. You might want to increase the number of iterations, check the scale of the features or consider increasing regularisation. Duality gap: 2.325e+10, tolerance: 1.414e+09\n",
      "  model = cd_fast.enet_coordinate_descent(\n"
     ]
    },
    {
     "name": "stdout",
     "output_type": "stream",
     "text": [
      "[CV] END ................................alpha=8, l1_ratio=1; total time=   0.9s\n"
     ]
    },
    {
     "name": "stderr",
     "output_type": "stream",
     "text": [
      "D:\\my_stuff\\new\\lib\\site-packages\\sklearn\\linear_model\\_coordinate_descent.py:647: ConvergenceWarning: Objective did not converge. You might want to increase the number of iterations, check the scale of the features or consider increasing regularisation. Duality gap: 4.070e+10, tolerance: 1.393e+09\n",
      "  model = cd_fast.enet_coordinate_descent(\n"
     ]
    },
    {
     "name": "stdout",
     "output_type": "stream",
     "text": [
      "[CV] END ................................alpha=8, l1_ratio=1; total time=   1.2s\n"
     ]
    },
    {
     "name": "stderr",
     "output_type": "stream",
     "text": [
      "D:\\my_stuff\\new\\lib\\site-packages\\sklearn\\linear_model\\_coordinate_descent.py:647: ConvergenceWarning: Objective did not converge. You might want to increase the number of iterations, check the scale of the features or consider increasing regularisation. Duality gap: 4.413e+09, tolerance: 1.404e+09\n",
      "  model = cd_fast.enet_coordinate_descent(\n"
     ]
    },
    {
     "name": "stdout",
     "output_type": "stream",
     "text": [
      "[CV] END ................................alpha=8, l1_ratio=1; total time=   1.1s\n"
     ]
    },
    {
     "name": "stderr",
     "output_type": "stream",
     "text": [
      "D:\\my_stuff\\new\\lib\\site-packages\\sklearn\\linear_model\\_coordinate_descent.py:647: ConvergenceWarning: Objective did not converge. You might want to increase the number of iterations, check the scale of the features or consider increasing regularisation. Duality gap: 1.704e+10, tolerance: 1.318e+09\n",
      "  model = cd_fast.enet_coordinate_descent(\n"
     ]
    },
    {
     "name": "stdout",
     "output_type": "stream",
     "text": [
      "[CV] END ................................alpha=8, l1_ratio=1; total time=   1.0s\n",
      "[CV] END .............................alpha=15, l1_ratio=0.1; total time=   0.0s\n",
      "[CV] END .............................alpha=15, l1_ratio=0.1; total time=   0.0s\n",
      "[CV] END .............................alpha=15, l1_ratio=0.1; total time=   0.0s\n",
      "[CV] END .............................alpha=15, l1_ratio=0.1; total time=   0.0s\n",
      "[CV] END .............................alpha=15, l1_ratio=0.1; total time=   0.0s\n",
      "[CV] END .............................alpha=15, l1_ratio=0.3; total time=   0.0s\n",
      "[CV] END .............................alpha=15, l1_ratio=0.3; total time=   0.0s\n",
      "[CV] END .............................alpha=15, l1_ratio=0.3; total time=   0.0s\n",
      "[CV] END .............................alpha=15, l1_ratio=0.3; total time=   0.0s\n",
      "[CV] END .............................alpha=15, l1_ratio=0.3; total time=   0.0s\n",
      "[CV] END .............................alpha=15, l1_ratio=0.5; total time=   0.0s\n",
      "[CV] END .............................alpha=15, l1_ratio=0.5; total time=   0.0s\n",
      "[CV] END .............................alpha=15, l1_ratio=0.5; total time=   0.0s\n",
      "[CV] END .............................alpha=15, l1_ratio=0.5; total time=   0.0s\n",
      "[CV] END .............................alpha=15, l1_ratio=0.5; total time=   0.0s\n",
      "[CV] END .............................alpha=15, l1_ratio=0.6; total time=   0.0s\n",
      "[CV] END .............................alpha=15, l1_ratio=0.6; total time=   0.0s\n",
      "[CV] END .............................alpha=15, l1_ratio=0.6; total time=   0.0s\n",
      "[CV] END .............................alpha=15, l1_ratio=0.6; total time=   0.0s\n",
      "[CV] END .............................alpha=15, l1_ratio=0.6; total time=   0.0s\n",
      "[CV] END .............................alpha=15, l1_ratio=0.8; total time=   0.0s\n",
      "[CV] END .............................alpha=15, l1_ratio=0.8; total time=   0.0s\n",
      "[CV] END .............................alpha=15, l1_ratio=0.8; total time=   0.0s\n",
      "[CV] END .............................alpha=15, l1_ratio=0.8; total time=   0.0s\n",
      "[CV] END .............................alpha=15, l1_ratio=0.8; total time=   0.0s\n",
      "[CV] END ...............................alpha=15, l1_ratio=1; total time=   0.8s\n",
      "[CV] END ...............................alpha=15, l1_ratio=1; total time=   0.9s\n",
      "[CV] END ...............................alpha=15, l1_ratio=1; total time=   0.9s\n",
      "[CV] END ...............................alpha=15, l1_ratio=1; total time=   0.9s\n",
      "[CV] END ...............................alpha=15, l1_ratio=1; total time=   0.9s\n",
      "[CV] END .............................alpha=30, l1_ratio=0.1; total time=   0.0s\n",
      "[CV] END .............................alpha=30, l1_ratio=0.1; total time=   0.0s\n",
      "[CV] END .............................alpha=30, l1_ratio=0.1; total time=   0.0s\n",
      "[CV] END .............................alpha=30, l1_ratio=0.1; total time=   0.0s\n",
      "[CV] END .............................alpha=30, l1_ratio=0.1; total time=   0.0s\n",
      "[CV] END .............................alpha=30, l1_ratio=0.3; total time=   0.0s\n",
      "[CV] END .............................alpha=30, l1_ratio=0.3; total time=   0.0s\n",
      "[CV] END .............................alpha=30, l1_ratio=0.3; total time=   0.0s\n",
      "[CV] END .............................alpha=30, l1_ratio=0.3; total time=   0.0s\n",
      "[CV] END .............................alpha=30, l1_ratio=0.3; total time=   0.0s\n",
      "[CV] END .............................alpha=30, l1_ratio=0.5; total time=   0.0s\n",
      "[CV] END .............................alpha=30, l1_ratio=0.5; total time=   0.0s\n",
      "[CV] END .............................alpha=30, l1_ratio=0.5; total time=   0.0s\n",
      "[CV] END .............................alpha=30, l1_ratio=0.5; total time=   0.0s\n",
      "[CV] END .............................alpha=30, l1_ratio=0.5; total time=   0.0s\n",
      "[CV] END .............................alpha=30, l1_ratio=0.6; total time=   0.0s\n",
      "[CV] END .............................alpha=30, l1_ratio=0.6; total time=   0.0s\n",
      "[CV] END .............................alpha=30, l1_ratio=0.6; total time=   0.0s\n",
      "[CV] END .............................alpha=30, l1_ratio=0.6; total time=   0.0s\n",
      "[CV] END .............................alpha=30, l1_ratio=0.6; total time=   0.0s\n",
      "[CV] END .............................alpha=30, l1_ratio=0.8; total time=   0.0s\n",
      "[CV] END .............................alpha=30, l1_ratio=0.8; total time=   0.0s\n",
      "[CV] END .............................alpha=30, l1_ratio=0.8; total time=   0.0s\n",
      "[CV] END .............................alpha=30, l1_ratio=0.8; total time=   0.0s\n",
      "[CV] END .............................alpha=30, l1_ratio=0.8; total time=   0.0s\n"
     ]
    },
    {
     "name": "stderr",
     "output_type": "stream",
     "text": [
      "D:\\my_stuff\\new\\lib\\site-packages\\sklearn\\linear_model\\_coordinate_descent.py:647: ConvergenceWarning: Objective did not converge. You might want to increase the number of iterations, check the scale of the features or consider increasing regularisation. Duality gap: 2.753e+09, tolerance: 1.328e+09\n",
      "  model = cd_fast.enet_coordinate_descent(\n"
     ]
    },
    {
     "name": "stdout",
     "output_type": "stream",
     "text": [
      "[CV] END ...............................alpha=30, l1_ratio=1; total time=   0.9s\n"
     ]
    },
    {
     "name": "stderr",
     "output_type": "stream",
     "text": [
      "D:\\my_stuff\\new\\lib\\site-packages\\sklearn\\linear_model\\_coordinate_descent.py:647: ConvergenceWarning: Objective did not converge. You might want to increase the number of iterations, check the scale of the features or consider increasing regularisation. Duality gap: 2.664e+09, tolerance: 1.414e+09\n",
      "  model = cd_fast.enet_coordinate_descent(\n"
     ]
    },
    {
     "name": "stdout",
     "output_type": "stream",
     "text": [
      "[CV] END ...............................alpha=30, l1_ratio=1; total time=   0.9s\n"
     ]
    },
    {
     "name": "stderr",
     "output_type": "stream",
     "text": [
      "D:\\my_stuff\\new\\lib\\site-packages\\sklearn\\linear_model\\_coordinate_descent.py:647: ConvergenceWarning: Objective did not converge. You might want to increase the number of iterations, check the scale of the features or consider increasing regularisation. Duality gap: 3.646e+09, tolerance: 1.393e+09\n",
      "  model = cd_fast.enet_coordinate_descent(\n"
     ]
    },
    {
     "name": "stdout",
     "output_type": "stream",
     "text": [
      "[CV] END ...............................alpha=30, l1_ratio=1; total time=   1.0s\n",
      "[CV] END ...............................alpha=30, l1_ratio=1; total time=   0.8s\n"
     ]
    },
    {
     "name": "stderr",
     "output_type": "stream",
     "text": [
      "D:\\my_stuff\\new\\lib\\site-packages\\sklearn\\linear_model\\_coordinate_descent.py:647: ConvergenceWarning: Objective did not converge. You might want to increase the number of iterations, check the scale of the features or consider increasing regularisation. Duality gap: 2.205e+09, tolerance: 1.318e+09\n",
      "  model = cd_fast.enet_coordinate_descent(\n"
     ]
    },
    {
     "name": "stdout",
     "output_type": "stream",
     "text": [
      "[CV] END ...............................alpha=30, l1_ratio=1; total time=   0.8s\n",
      "[CV] END .............................alpha=50, l1_ratio=0.1; total time=   0.0s\n",
      "[CV] END .............................alpha=50, l1_ratio=0.1; total time=   0.0s\n",
      "[CV] END .............................alpha=50, l1_ratio=0.1; total time=   0.0s\n",
      "[CV] END .............................alpha=50, l1_ratio=0.1; total time=   0.0s\n",
      "[CV] END .............................alpha=50, l1_ratio=0.1; total time=   0.0s\n",
      "[CV] END .............................alpha=50, l1_ratio=0.3; total time=   0.0s\n",
      "[CV] END .............................alpha=50, l1_ratio=0.3; total time=   0.0s\n",
      "[CV] END .............................alpha=50, l1_ratio=0.3; total time=   0.0s\n",
      "[CV] END .............................alpha=50, l1_ratio=0.3; total time=   0.0s\n",
      "[CV] END .............................alpha=50, l1_ratio=0.3; total time=   0.0s\n",
      "[CV] END .............................alpha=50, l1_ratio=0.5; total time=   0.0s\n",
      "[CV] END .............................alpha=50, l1_ratio=0.5; total time=   0.0s\n",
      "[CV] END .............................alpha=50, l1_ratio=0.5; total time=   0.0s\n",
      "[CV] END .............................alpha=50, l1_ratio=0.5; total time=   0.0s\n",
      "[CV] END .............................alpha=50, l1_ratio=0.5; total time=   0.0s\n",
      "[CV] END .............................alpha=50, l1_ratio=0.6; total time=   0.0s\n",
      "[CV] END .............................alpha=50, l1_ratio=0.6; total time=   0.0s\n",
      "[CV] END .............................alpha=50, l1_ratio=0.6; total time=   0.0s\n",
      "[CV] END .............................alpha=50, l1_ratio=0.6; total time=   0.0s\n",
      "[CV] END .............................alpha=50, l1_ratio=0.6; total time=   0.0s\n",
      "[CV] END .............................alpha=50, l1_ratio=0.8; total time=   0.0s\n",
      "[CV] END .............................alpha=50, l1_ratio=0.8; total time=   0.0s\n",
      "[CV] END .............................alpha=50, l1_ratio=0.8; total time=   0.0s\n",
      "[CV] END .............................alpha=50, l1_ratio=0.8; total time=   0.0s\n",
      "[CV] END .............................alpha=50, l1_ratio=0.8; total time=   0.0s\n",
      "[CV] END ...............................alpha=50, l1_ratio=1; total time=   0.7s\n",
      "[CV] END ...............................alpha=50, l1_ratio=1; total time=   0.6s\n",
      "[CV] END ...............................alpha=50, l1_ratio=1; total time=   0.7s\n",
      "[CV] END ...............................alpha=50, l1_ratio=1; total time=   0.5s\n",
      "[CV] END ...............................alpha=50, l1_ratio=1; total time=   0.6s\n",
      "[CV] END .............................alpha=70, l1_ratio=0.1; total time=   0.0s\n",
      "[CV] END .............................alpha=70, l1_ratio=0.1; total time=   0.0s\n",
      "[CV] END .............................alpha=70, l1_ratio=0.1; total time=   0.0s\n",
      "[CV] END .............................alpha=70, l1_ratio=0.1; total time=   0.0s\n",
      "[CV] END .............................alpha=70, l1_ratio=0.1; total time=   0.0s\n",
      "[CV] END .............................alpha=70, l1_ratio=0.3; total time=   0.0s\n",
      "[CV] END .............................alpha=70, l1_ratio=0.3; total time=   0.0s\n",
      "[CV] END .............................alpha=70, l1_ratio=0.3; total time=   0.0s\n",
      "[CV] END .............................alpha=70, l1_ratio=0.3; total time=   0.0s\n",
      "[CV] END .............................alpha=70, l1_ratio=0.3; total time=   0.0s\n",
      "[CV] END .............................alpha=70, l1_ratio=0.5; total time=   0.0s\n",
      "[CV] END .............................alpha=70, l1_ratio=0.5; total time=   0.0s\n",
      "[CV] END .............................alpha=70, l1_ratio=0.5; total time=   0.0s\n",
      "[CV] END .............................alpha=70, l1_ratio=0.5; total time=   0.0s\n",
      "[CV] END .............................alpha=70, l1_ratio=0.5; total time=   0.0s\n",
      "[CV] END .............................alpha=70, l1_ratio=0.6; total time=   0.0s\n",
      "[CV] END .............................alpha=70, l1_ratio=0.6; total time=   0.0s\n",
      "[CV] END .............................alpha=70, l1_ratio=0.6; total time=   0.0s\n",
      "[CV] END .............................alpha=70, l1_ratio=0.6; total time=   0.0s\n",
      "[CV] END .............................alpha=70, l1_ratio=0.6; total time=   0.0s\n",
      "[CV] END .............................alpha=70, l1_ratio=0.8; total time=   0.0s\n",
      "[CV] END .............................alpha=70, l1_ratio=0.8; total time=   0.0s\n",
      "[CV] END .............................alpha=70, l1_ratio=0.8; total time=   0.0s\n",
      "[CV] END .............................alpha=70, l1_ratio=0.8; total time=   0.0s\n",
      "[CV] END .............................alpha=70, l1_ratio=0.8; total time=   0.0s\n",
      "[CV] END ...............................alpha=70, l1_ratio=1; total time=   0.4s\n",
      "[CV] END ...............................alpha=70, l1_ratio=1; total time=   0.4s\n",
      "[CV] END ...............................alpha=70, l1_ratio=1; total time=   0.5s\n",
      "[CV] END ...............................alpha=70, l1_ratio=1; total time=   0.4s\n",
      "[CV] END ...............................alpha=70, l1_ratio=1; total time=   0.4s\n",
      "[CV] END .............................alpha=80, l1_ratio=0.1; total time=   0.0s\n",
      "[CV] END .............................alpha=80, l1_ratio=0.1; total time=   0.0s\n",
      "[CV] END .............................alpha=80, l1_ratio=0.1; total time=   0.0s\n",
      "[CV] END .............................alpha=80, l1_ratio=0.1; total time=   0.0s\n",
      "[CV] END .............................alpha=80, l1_ratio=0.1; total time=   0.0s\n",
      "[CV] END .............................alpha=80, l1_ratio=0.3; total time=   0.0s\n",
      "[CV] END .............................alpha=80, l1_ratio=0.3; total time=   0.0s\n",
      "[CV] END .............................alpha=80, l1_ratio=0.3; total time=   0.0s\n",
      "[CV] END .............................alpha=80, l1_ratio=0.3; total time=   0.0s\n",
      "[CV] END .............................alpha=80, l1_ratio=0.3; total time=   0.0s\n",
      "[CV] END .............................alpha=80, l1_ratio=0.5; total time=   0.0s\n",
      "[CV] END .............................alpha=80, l1_ratio=0.5; total time=   0.0s\n",
      "[CV] END .............................alpha=80, l1_ratio=0.5; total time=   0.0s\n",
      "[CV] END .............................alpha=80, l1_ratio=0.5; total time=   0.0s\n",
      "[CV] END .............................alpha=80, l1_ratio=0.5; total time=   0.0s\n",
      "[CV] END .............................alpha=80, l1_ratio=0.6; total time=   0.0s\n",
      "[CV] END .............................alpha=80, l1_ratio=0.6; total time=   0.0s\n",
      "[CV] END .............................alpha=80, l1_ratio=0.6; total time=   0.0s\n",
      "[CV] END .............................alpha=80, l1_ratio=0.6; total time=   0.0s\n",
      "[CV] END .............................alpha=80, l1_ratio=0.6; total time=   0.0s\n",
      "[CV] END .............................alpha=80, l1_ratio=0.8; total time=   0.0s\n",
      "[CV] END .............................alpha=80, l1_ratio=0.8; total time=   0.0s\n",
      "[CV] END .............................alpha=80, l1_ratio=0.8; total time=   0.0s\n",
      "[CV] END .............................alpha=80, l1_ratio=0.8; total time=   0.0s\n",
      "[CV] END .............................alpha=80, l1_ratio=0.8; total time=   0.0s\n",
      "[CV] END ...............................alpha=80, l1_ratio=1; total time=   0.4s\n",
      "[CV] END ...............................alpha=80, l1_ratio=1; total time=   0.4s\n",
      "[CV] END ...............................alpha=80, l1_ratio=1; total time=   0.5s\n",
      "[CV] END ...............................alpha=80, l1_ratio=1; total time=   0.3s\n",
      "[CV] END ...............................alpha=80, l1_ratio=1; total time=   0.4s\n",
      "[CV] END ............................alpha=100, l1_ratio=0.1; total time=   0.0s\n",
      "[CV] END ............................alpha=100, l1_ratio=0.1; total time=   0.0s\n",
      "[CV] END ............................alpha=100, l1_ratio=0.1; total time=   0.0s\n",
      "[CV] END ............................alpha=100, l1_ratio=0.1; total time=   0.0s\n",
      "[CV] END ............................alpha=100, l1_ratio=0.1; total time=   0.0s\n",
      "[CV] END ............................alpha=100, l1_ratio=0.3; total time=   0.0s\n",
      "[CV] END ............................alpha=100, l1_ratio=0.3; total time=   0.0s\n",
      "[CV] END ............................alpha=100, l1_ratio=0.3; total time=   0.0s\n",
      "[CV] END ............................alpha=100, l1_ratio=0.3; total time=   0.0s\n",
      "[CV] END ............................alpha=100, l1_ratio=0.3; total time=   0.0s\n",
      "[CV] END ............................alpha=100, l1_ratio=0.5; total time=   0.0s\n"
     ]
    },
    {
     "name": "stdout",
     "output_type": "stream",
     "text": [
      "[CV] END ............................alpha=100, l1_ratio=0.5; total time=   0.0s\n",
      "[CV] END ............................alpha=100, l1_ratio=0.5; total time=   0.0s\n",
      "[CV] END ............................alpha=100, l1_ratio=0.5; total time=   0.0s\n",
      "[CV] END ............................alpha=100, l1_ratio=0.5; total time=   0.0s\n",
      "[CV] END ............................alpha=100, l1_ratio=0.6; total time=   0.0s\n",
      "[CV] END ............................alpha=100, l1_ratio=0.6; total time=   0.0s\n",
      "[CV] END ............................alpha=100, l1_ratio=0.6; total time=   0.0s\n",
      "[CV] END ............................alpha=100, l1_ratio=0.6; total time=   0.0s\n",
      "[CV] END ............................alpha=100, l1_ratio=0.6; total time=   0.0s\n",
      "[CV] END ............................alpha=100, l1_ratio=0.8; total time=   0.0s\n",
      "[CV] END ............................alpha=100, l1_ratio=0.8; total time=   0.0s\n",
      "[CV] END ............................alpha=100, l1_ratio=0.8; total time=   0.0s\n",
      "[CV] END ............................alpha=100, l1_ratio=0.8; total time=   0.0s\n",
      "[CV] END ............................alpha=100, l1_ratio=0.8; total time=   0.0s\n",
      "[CV] END ..............................alpha=100, l1_ratio=1; total time=   0.3s\n",
      "[CV] END ..............................alpha=100, l1_ratio=1; total time=   0.3s\n",
      "[CV] END ..............................alpha=100, l1_ratio=1; total time=   0.4s\n",
      "[CV] END ..............................alpha=100, l1_ratio=1; total time=   0.4s\n",
      "[CV] END ..............................alpha=100, l1_ratio=1; total time=   0.3s\n"
     ]
    },
    {
     "data": {
      "text/plain": [
       "GridSearchCV(cv=5, estimator=ElasticNet(),\n",
       "             param_grid={'alpha': [1, 8, 15, 30, 50, 70, 80, 100],\n",
       "                         'l1_ratio': [0.1, 0.3, 0.5, 0.6, 0.8, 1]},\n",
       "             verbose=2)"
      ]
     },
     "execution_count": 57,
     "metadata": {},
     "output_type": "execute_result"
    }
   ],
   "source": [
    "GridSearchCV_model.fit(scaled_X_train, y_train)"
   ]
  },
  {
   "cell_type": "code",
   "execution_count": 58,
   "id": "b259fde9",
   "metadata": {},
   "outputs": [
    {
     "data": {
      "text/plain": [
       "ElasticNet(alpha=1, l1_ratio=0.8)"
      ]
     },
     "execution_count": 58,
     "metadata": {},
     "output_type": "execute_result"
    }
   ],
   "source": [
    "GridSearchCV_model.best_estimator_"
   ]
  },
  {
   "cell_type": "code",
   "execution_count": 59,
   "id": "b96a0d2e",
   "metadata": {},
   "outputs": [],
   "source": [
    "y_pred = GridSearchCV_model.predict(scaled_X_test)"
   ]
  },
  {
   "cell_type": "code",
   "execution_count": 60,
   "id": "d8fe2ae9",
   "metadata": {},
   "outputs": [],
   "source": [
    "    from sklearn.metrics import mean_absolute_error, mean_squared_error"
   ]
  },
  {
   "cell_type": "code",
   "execution_count": 61,
   "id": "81f0b15e",
   "metadata": {},
   "outputs": [
    {
     "data": {
      "text/plain": [
       "16523.338399600347"
      ]
     },
     "execution_count": 61,
     "metadata": {},
     "output_type": "execute_result"
    }
   ],
   "source": [
    "mean_absolute_error(y_test, y_pred)"
   ]
  },
  {
   "cell_type": "code",
   "execution_count": 62,
   "id": "ea788e6a",
   "metadata": {},
   "outputs": [
    {
     "data": {
      "text/plain": [
       "24082.850285502867"
      ]
     },
     "execution_count": 62,
     "metadata": {},
     "output_type": "execute_result"
    }
   ],
   "source": [
    "np.sqrt(mean_squared_error(y_test, y_pred))"
   ]
  },
  {
   "cell_type": "code",
   "execution_count": null,
   "id": "fe97e321",
   "metadata": {},
   "outputs": [],
   "source": []
  }
 ],
 "metadata": {
  "kernelspec": {
   "display_name": "Python 3 (ipykernel)",
   "language": "python",
   "name": "python3"
  },
  "language_info": {
   "codemirror_mode": {
    "name": "ipython",
    "version": 3
   },
   "file_extension": ".py",
   "mimetype": "text/x-python",
   "name": "python",
   "nbconvert_exporter": "python",
   "pygments_lexer": "ipython3",
   "version": "3.9.12"
  }
 },
 "nbformat": 4,
 "nbformat_minor": 5
}
